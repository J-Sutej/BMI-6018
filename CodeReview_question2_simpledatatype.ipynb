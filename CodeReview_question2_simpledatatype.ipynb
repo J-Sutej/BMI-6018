{
 "cells": [
  {
   "cell_type": "markdown",
   "metadata": {},
   "source": [
    "Question 2\n",
    "\n",
    "logical tracker = True\n",
    "\n",
    "logical tracker = logical tracker & logical tracker\n",
    "\n",
    "logical tracker = logical tracker | (logical tracker - logical tracker)\n",
    "\n",
    "logical tracker  = ?"
   ]
  },
  {
   "cell_type": "code",
   "execution_count": 1,
   "metadata": {},
   "outputs": [],
   "source": [
    "logical_tracker = True\n",
    "# add boolean to the variable"
   ]
  },
  {
   "cell_type": "code",
   "execution_count": 2,
   "metadata": {},
   "outputs": [
    {
     "name": "stdout",
     "output_type": "stream",
     "text": [
      "True\n"
     ]
    }
   ],
   "source": [
    "logical_tracker = logical_tracker & logical_tracker\n",
    "# True and True ---> True\n",
    "# if you have one False in and function, the result will be False\n",
    "print(logical_tracker)"
   ]
  },
  {
   "cell_type": "code",
   "execution_count": 3,
   "metadata": {},
   "outputs": [
    {
     "name": "stdout",
     "output_type": "stream",
     "text": [
      "1\n"
     ]
    }
   ],
   "source": [
    "logical_tracker = logical_tracker | (logical_tracker - logical_tracker)\n",
    "''' True or (True-True)\n",
    "change the boolean to value\n",
    "True - True = 1 - 1 = 0 (False)\n",
    "\n",
    "True or False = True\n",
    " if you have True in or function, you will got True as a result\n",
    "'''\n",
    "print(logical_tracker)"
   ]
  }
 ],
 "metadata": {
  "kernelspec": {
   "display_name": "Python 3 (ipykernel)",
   "language": "python",
   "name": "python3"
  },
  "language_info": {
   "codemirror_mode": {
    "name": "ipython",
    "version": 3
   },
   "file_extension": ".py",
   "mimetype": "text/x-python",
   "name": "python",
   "nbconvert_exporter": "python",
   "pygments_lexer": "ipython3",
   "version": "3.11.9"
  }
 },
 "nbformat": 4,
 "nbformat_minor": 4
}
